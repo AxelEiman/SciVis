{
 "cells": [
  {
   "cell_type": "markdown",
   "metadata": {},
   "source": [
    "# Worksheet 1 - Scientific Visualization MVE080/MMG640\n",
    "## Basics in Python, Jupyter, plotnine and how to visualize amounts"
   ]
  },
  {
   "cell_type": "markdown",
   "metadata": {},
   "source": [
    "Name: Axel Eiman"
   ]
  },
  {
   "cell_type": "markdown",
   "metadata": {},
   "source": [
    "This is the first worksheet in the course *Scientific Visualization*. This Jupyter notebook has three functions:\n",
    "\n",
    "1. It describes the tasks.\n",
    "2. It (sometimes) provides coding templates that you can use as a basis for your own code.\n",
    "3. It is a template also for the report that you upload in Canvas.\n",
    "\n",
    "The tasks are of various types: some are to read some text and then comment on it (no coding), and some are about creating visualizations using plotnine.\n",
    "Once you're finished with all the tasks, export this document as an HTML-file and upload it in Canvas.\n",
    "You are encouraged to discuss problems and solutions with your fellow students (in the class-room but also on CampusWire), but each student must solve all tasks by themselves and hand-in their own report.\n",
    "Notice that Jupyter notebooks use [Markdown](https://docs.github.com/en/github/writing-on-github/getting-started-with-writing-and-formatting-on-github/basic-writing-and-formatting-syntax#links) for writing text cells. Make sure you understand the basics. Later on you can also include $\\LaTeX$ in your Markdown cells.\n",
    "\n",
    "Throughout the assignment you shall use a Python workflow.\n",
    "If you are completely new to Python, take a look at [this page](pythonbasics.org).\n",
    "Python can do essentially all that MATLAB can, plus more. \n",
    "In this course we shall use Python in different contexts, starting with the [Jupyter Notebook interface](https://jupyter-notebook.readthedocs.io/en/stable/notebook.html). \n",
    "\n",
    "Matrices and arrays are handled through the NumPy module. [Learn here](https://docs.scipy.org/doc/numpy/user/numpy-for-matlab-users.html) how NumPy is different from MATLAB.\n",
    "\n",
    "The below loads the packages required for this homework."
   ]
  },
  {
   "cell_type": "code",
   "execution_count": 46,
   "metadata": {},
   "outputs": [],
   "source": [
    "import numpy as np\n",
    "import pandas as pd\n",
    "from plotnine import *\n",
    "from plotnine.data import mtcars # Classic example data set \n",
    "\n",
    "# A nice color palette for categorical data \n",
    "cbPalette = [\"#E69F00\", \"#56B4E9\", \"#009E73\", \n",
    "             \"#F0E442\", \"#0072B2\", \"#D55E00\", \n",
    "             \"#CC79A7\", \"#999999\"]"
   ]
  },
  {
   "cell_type": "markdown",
   "metadata": {},
   "source": [
    "## Task 1\n",
    "\n",
    "Read Chapter 1-3 of [Fundamentals of Data Visualizations](https://clauswilke.com/dataviz/), then answer the questions below.\n",
    "\n",
    "### Question 1.1\n",
    "Describe the visualization concept _scales_. \n",
    "\n",
    "### Answer 1.1\n",
    "Scales are how we connect between data and aesthetics. We can use position scales, shape scales, or color/intensity scales. The scales are what determine what the positions, shapes, or colors mean respectively for the data we are visualizing. \n",
    "\n",
    "### Question 1.2\n",
    "In Figures 2.3 and 2.4 the same data is visualized in two different ways. Discuss the pros and cons of the two approaches. Which one do you prefer and why?\n",
    "\n",
    "### Answer 1.2\n",
    "In the curve plot in figure 2.3 it is easy to read the temperature values for each location, and we can follow how the temperature changes during each month. In figure 2.4, we lose some of the information when averaging over the months. Since temperature is a continuous variable, it is easier to interpret when mapped to a position scale. This together with the fact that we lose some information by averaging is why I prefer figure 2.3.\n",
    "\n",
    "### Question 1.3\n",
    "Describe situations when _nonlinear axes_ might be useful.\n",
    "When should they not be used?\n",
    "\n",
    "### Answer 1.3\n",
    "Nonlinear axes can be useful when the data is nonlinear. For example, using a logarithmic scale is useful when the data is exponential or the data is obtained from multiplication or division. They should not be used when the x and y axes are measured in the same units.\n",
    "\n",
    "### Question 1.4\n",
    "In which situations could a _polar coordinate system_ be useful? \n",
    "\n",
    "### Answer 1.4\n",
    "Polar coordinate systems are useful when working with data of periodic nature, where the end of the scale can be joined with the beginning essentially. When relating to geometric shapes like circles, cylinders etc. polar coordinates make sense of course, but also with things like the days of a year.\n"
   ]
  },
  {
   "cell_type": "markdown",
   "metadata": {},
   "source": [
    "## Task 2 - Tidy data, ggplot and distributions\n",
    "\n",
    "Several graphics libraries such as ggplot2 and plotnine are at their best when the provided data is tidy. However, data is often not provided in a tidy format, hence being able to transform non-tidy data into tidy data is a crucial skill. \n",
    "\n",
    "### Question 2.1 \n",
    "\n",
    "In the lecture I provided a small non-tidy dataset (code below)."
   ]
  },
  {
   "cell_type": "code",
   "execution_count": 2,
   "metadata": {},
   "outputs": [
    {
     "data": {
      "text/html": [
       "<div>\n",
       "<style scoped>\n",
       "    .dataframe tbody tr th:only-of-type {\n",
       "        vertical-align: middle;\n",
       "    }\n",
       "\n",
       "    .dataframe tbody tr th {\n",
       "        vertical-align: top;\n",
       "    }\n",
       "\n",
       "    .dataframe thead th {\n",
       "        text-align: right;\n",
       "    }\n",
       "</style>\n",
       "<table border=\"1\" class=\"dataframe\">\n",
       "  <thead>\n",
       "    <tr style=\"text-align: right;\">\n",
       "      <th></th>\n",
       "      <th>Site</th>\n",
       "      <th>1999</th>\n",
       "      <th>2000</th>\n",
       "    </tr>\n",
       "  </thead>\n",
       "  <tbody>\n",
       "    <tr>\n",
       "      <th>0</th>\n",
       "      <td>Stockholm</td>\n",
       "      <td>13</td>\n",
       "      <td>21</td>\n",
       "    </tr>\n",
       "    <tr>\n",
       "      <th>1</th>\n",
       "      <td>Gothenburg</td>\n",
       "      <td>85</td>\n",
       "      <td>31</td>\n",
       "    </tr>\n",
       "    <tr>\n",
       "      <th>2</th>\n",
       "      <td>London</td>\n",
       "      <td>77</td>\n",
       "      <td>15</td>\n",
       "    </tr>\n",
       "  </tbody>\n",
       "</table>\n",
       "</div>"
      ],
      "text/plain": [
       "         Site  1999  2000\n",
       "0   Stockholm    13    21\n",
       "1  Gothenburg    85    31\n",
       "2      London    77    15"
      ]
     },
     "execution_count": 2,
     "metadata": {},
     "output_type": "execute_result"
    }
   ],
   "source": [
    "data1 = pd.DataFrame({\"Site\" : [\"Stockholm\", \"Gothenburg\", \"London\"], \n",
    "                      \"1999\" : [13, 85, 77], \n",
    "                      \"2000\" : [21, 31, 15]})\n",
    "data1"
   ]
  },
  {
   "cell_type": "markdown",
   "metadata": {},
   "source": [
    "Transform this small dataset into a tidy dataset. Print the table below (as I did above). \n",
    "\n",
    "*Hint* [wide_to_long](https://pandas.pydata.org/docs/reference/api/pandas.wide_to_long.html)"
   ]
  },
  {
   "cell_type": "code",
   "execution_count": 3,
   "metadata": {},
   "outputs": [
    {
     "data": {
      "text/html": [
       "<div>\n",
       "<style scoped>\n",
       "    .dataframe tbody tr th:only-of-type {\n",
       "        vertical-align: middle;\n",
       "    }\n",
       "\n",
       "    .dataframe tbody tr th {\n",
       "        vertical-align: top;\n",
       "    }\n",
       "\n",
       "    .dataframe thead th {\n",
       "        text-align: right;\n",
       "    }\n",
       "</style>\n",
       "<table border=\"1\" class=\"dataframe\">\n",
       "  <thead>\n",
       "    <tr style=\"text-align: right;\">\n",
       "      <th></th>\n",
       "      <th>Site</th>\n",
       "      <th>variable</th>\n",
       "      <th>value</th>\n",
       "    </tr>\n",
       "  </thead>\n",
       "  <tbody>\n",
       "    <tr>\n",
       "      <th>0</th>\n",
       "      <td>Stockholm</td>\n",
       "      <td>1999</td>\n",
       "      <td>13</td>\n",
       "    </tr>\n",
       "    <tr>\n",
       "      <th>1</th>\n",
       "      <td>Gothenburg</td>\n",
       "      <td>1999</td>\n",
       "      <td>85</td>\n",
       "    </tr>\n",
       "    <tr>\n",
       "      <th>2</th>\n",
       "      <td>London</td>\n",
       "      <td>1999</td>\n",
       "      <td>77</td>\n",
       "    </tr>\n",
       "    <tr>\n",
       "      <th>3</th>\n",
       "      <td>Stockholm</td>\n",
       "      <td>2000</td>\n",
       "      <td>21</td>\n",
       "    </tr>\n",
       "    <tr>\n",
       "      <th>4</th>\n",
       "      <td>Gothenburg</td>\n",
       "      <td>2000</td>\n",
       "      <td>31</td>\n",
       "    </tr>\n",
       "    <tr>\n",
       "      <th>5</th>\n",
       "      <td>London</td>\n",
       "      <td>2000</td>\n",
       "      <td>15</td>\n",
       "    </tr>\n",
       "  </tbody>\n",
       "</table>\n",
       "</div>"
      ],
      "text/plain": [
       "         Site variable  value\n",
       "0   Stockholm     1999     13\n",
       "1  Gothenburg     1999     85\n",
       "2      London     1999     77\n",
       "3   Stockholm     2000     21\n",
       "4  Gothenburg     2000     31\n",
       "5      London     2000     15"
      ]
     },
     "execution_count": 3,
     "metadata": {},
     "output_type": "execute_result"
    }
   ],
   "source": [
    "# Insert code here \n",
    "# Remember to print the table\n",
    "data1 = data1.melt(id_vars=[\"Site\"], value_vars=[\"1999\", \"2000\"])\n",
    "data1"
   ]
  },
  {
   "cell_type": "markdown",
   "metadata": {},
   "source": [
    "### Question 2.2\n",
    "\n",
    "Datasets are often bigger than above. I have made a subset of the weather data used in the lecture non-tidy (available on the webpage). "
   ]
  },
  {
   "cell_type": "code",
   "execution_count": 4,
   "metadata": {},
   "outputs": [
    {
     "data": {
      "text/html": [
       "<div>\n",
       "<style scoped>\n",
       "    .dataframe tbody tr th:only-of-type {\n",
       "        vertical-align: middle;\n",
       "    }\n",
       "\n",
       "    .dataframe tbody tr th {\n",
       "        vertical-align: top;\n",
       "    }\n",
       "\n",
       "    .dataframe thead th {\n",
       "        text-align: right;\n",
       "    }\n",
       "</style>\n",
       "<table border=\"1\" class=\"dataframe\">\n",
       "  <thead>\n",
       "    <tr style=\"text-align: right;\">\n",
       "      <th></th>\n",
       "      <th>month</th>\n",
       "      <th>day</th>\n",
       "      <th>Temp2009</th>\n",
       "      <th>hour_of_day</th>\n",
       "      <th>Temp2010</th>\n",
       "    </tr>\n",
       "  </thead>\n",
       "  <tbody>\n",
       "    <tr>\n",
       "      <th>0</th>\n",
       "      <td>Jan</td>\n",
       "      <td>1</td>\n",
       "      <td>-0.9</td>\n",
       "      <td>12</td>\n",
       "      <td>-6.4</td>\n",
       "    </tr>\n",
       "    <tr>\n",
       "      <th>1</th>\n",
       "      <td>Jan</td>\n",
       "      <td>2</td>\n",
       "      <td>-2.2</td>\n",
       "      <td>12</td>\n",
       "      <td>-6.6</td>\n",
       "    </tr>\n",
       "    <tr>\n",
       "      <th>2</th>\n",
       "      <td>Jan</td>\n",
       "      <td>3</td>\n",
       "      <td>4.2</td>\n",
       "      <td>12</td>\n",
       "      <td>-7.4</td>\n",
       "    </tr>\n",
       "    <tr>\n",
       "      <th>3</th>\n",
       "      <td>Jan</td>\n",
       "      <td>4</td>\n",
       "      <td>-4.7</td>\n",
       "      <td>12</td>\n",
       "      <td>0.2</td>\n",
       "    </tr>\n",
       "    <tr>\n",
       "      <th>4</th>\n",
       "      <td>Jan</td>\n",
       "      <td>5</td>\n",
       "      <td>-7.8</td>\n",
       "      <td>12</td>\n",
       "      <td>-7.3</td>\n",
       "    </tr>\n",
       "    <tr>\n",
       "      <th>...</th>\n",
       "      <td>...</td>\n",
       "      <td>...</td>\n",
       "      <td>...</td>\n",
       "      <td>...</td>\n",
       "      <td>...</td>\n",
       "    </tr>\n",
       "    <tr>\n",
       "      <th>360</th>\n",
       "      <td>Dec</td>\n",
       "      <td>27</td>\n",
       "      <td>2.3</td>\n",
       "      <td>12</td>\n",
       "      <td>-6.8</td>\n",
       "    </tr>\n",
       "    <tr>\n",
       "      <th>361</th>\n",
       "      <td>Dec</td>\n",
       "      <td>28</td>\n",
       "      <td>-0.8</td>\n",
       "      <td>12</td>\n",
       "      <td>-11.0</td>\n",
       "    </tr>\n",
       "    <tr>\n",
       "      <th>362</th>\n",
       "      <td>Dec</td>\n",
       "      <td>29</td>\n",
       "      <td>1.4</td>\n",
       "      <td>12</td>\n",
       "      <td>-10.6</td>\n",
       "    </tr>\n",
       "    <tr>\n",
       "      <th>363</th>\n",
       "      <td>Dec</td>\n",
       "      <td>30</td>\n",
       "      <td>-5.5</td>\n",
       "      <td>12</td>\n",
       "      <td>-3.0</td>\n",
       "    </tr>\n",
       "    <tr>\n",
       "      <th>364</th>\n",
       "      <td>Dec</td>\n",
       "      <td>31</td>\n",
       "      <td>-8.1</td>\n",
       "      <td>12</td>\n",
       "      <td>-2.7</td>\n",
       "    </tr>\n",
       "  </tbody>\n",
       "</table>\n",
       "<p>365 rows × 5 columns</p>\n",
       "</div>"
      ],
      "text/plain": [
       "    month  day  Temp2009  hour_of_day  Temp2010\n",
       "0     Jan    1      -0.9           12      -6.4\n",
       "1     Jan    2      -2.2           12      -6.6\n",
       "2     Jan    3       4.2           12      -7.4\n",
       "3     Jan    4      -4.7           12       0.2\n",
       "4     Jan    5      -7.8           12      -7.3\n",
       "..    ...  ...       ...          ...       ...\n",
       "360   Dec   27       2.3           12      -6.8\n",
       "361   Dec   28      -0.8           12     -11.0\n",
       "362   Dec   29       1.4           12     -10.6\n",
       "363   Dec   30      -5.5           12      -3.0\n",
       "364   Dec   31      -8.1           12      -2.7\n",
       "\n",
       "[365 rows x 5 columns]"
      ]
     },
     "execution_count": 4,
     "metadata": {},
     "output_type": "execute_result"
    }
   ],
   "source": [
    "# If you have the data in the same directory as your notebook you can use \n",
    "# path_data = \"Weather_not_tidy.csv\"\n",
    "path_data = \"Weather_not_tidy.csv\"\n",
    "data_not_tidy = pd.read_csv(path_data)\n",
    "data_not_tidy\n"
   ]
  },
  {
   "cell_type": "markdown",
   "metadata": {},
   "source": [
    "Transform this dataset into a tidy dataset. Print the table below (as I did above)"
   ]
  },
  {
   "cell_type": "code",
   "execution_count": 63,
   "metadata": {},
   "outputs": [
    {
     "data": {
      "text/html": [
       "<div>\n",
       "<style scoped>\n",
       "    .dataframe tbody tr th:only-of-type {\n",
       "        vertical-align: middle;\n",
       "    }\n",
       "\n",
       "    .dataframe tbody tr th {\n",
       "        vertical-align: top;\n",
       "    }\n",
       "\n",
       "    .dataframe thead th {\n",
       "        text-align: right;\n",
       "    }\n",
       "</style>\n",
       "<table border=\"1\" class=\"dataframe\">\n",
       "  <thead>\n",
       "    <tr style=\"text-align: right;\">\n",
       "      <th></th>\n",
       "      <th>month</th>\n",
       "      <th>day</th>\n",
       "      <th>hour_of_day</th>\n",
       "      <th>year</th>\n",
       "      <th>value</th>\n",
       "    </tr>\n",
       "  </thead>\n",
       "  <tbody>\n",
       "    <tr>\n",
       "      <th>0</th>\n",
       "      <td>Jan</td>\n",
       "      <td>1</td>\n",
       "      <td>12</td>\n",
       "      <td>Temp2009</td>\n",
       "      <td>-0.9</td>\n",
       "    </tr>\n",
       "    <tr>\n",
       "      <th>1</th>\n",
       "      <td>Jan</td>\n",
       "      <td>2</td>\n",
       "      <td>12</td>\n",
       "      <td>Temp2009</td>\n",
       "      <td>-2.2</td>\n",
       "    </tr>\n",
       "    <tr>\n",
       "      <th>2</th>\n",
       "      <td>Jan</td>\n",
       "      <td>3</td>\n",
       "      <td>12</td>\n",
       "      <td>Temp2009</td>\n",
       "      <td>4.2</td>\n",
       "    </tr>\n",
       "    <tr>\n",
       "      <th>3</th>\n",
       "      <td>Jan</td>\n",
       "      <td>4</td>\n",
       "      <td>12</td>\n",
       "      <td>Temp2009</td>\n",
       "      <td>-4.7</td>\n",
       "    </tr>\n",
       "    <tr>\n",
       "      <th>4</th>\n",
       "      <td>Jan</td>\n",
       "      <td>5</td>\n",
       "      <td>12</td>\n",
       "      <td>Temp2009</td>\n",
       "      <td>-7.8</td>\n",
       "    </tr>\n",
       "    <tr>\n",
       "      <th>...</th>\n",
       "      <td>...</td>\n",
       "      <td>...</td>\n",
       "      <td>...</td>\n",
       "      <td>...</td>\n",
       "      <td>...</td>\n",
       "    </tr>\n",
       "    <tr>\n",
       "      <th>725</th>\n",
       "      <td>Dec</td>\n",
       "      <td>27</td>\n",
       "      <td>12</td>\n",
       "      <td>Temp2010</td>\n",
       "      <td>-6.8</td>\n",
       "    </tr>\n",
       "    <tr>\n",
       "      <th>726</th>\n",
       "      <td>Dec</td>\n",
       "      <td>28</td>\n",
       "      <td>12</td>\n",
       "      <td>Temp2010</td>\n",
       "      <td>-11.0</td>\n",
       "    </tr>\n",
       "    <tr>\n",
       "      <th>727</th>\n",
       "      <td>Dec</td>\n",
       "      <td>29</td>\n",
       "      <td>12</td>\n",
       "      <td>Temp2010</td>\n",
       "      <td>-10.6</td>\n",
       "    </tr>\n",
       "    <tr>\n",
       "      <th>728</th>\n",
       "      <td>Dec</td>\n",
       "      <td>30</td>\n",
       "      <td>12</td>\n",
       "      <td>Temp2010</td>\n",
       "      <td>-3.0</td>\n",
       "    </tr>\n",
       "    <tr>\n",
       "      <th>729</th>\n",
       "      <td>Dec</td>\n",
       "      <td>31</td>\n",
       "      <td>12</td>\n",
       "      <td>Temp2010</td>\n",
       "      <td>-2.7</td>\n",
       "    </tr>\n",
       "  </tbody>\n",
       "</table>\n",
       "<p>730 rows × 5 columns</p>\n",
       "</div>"
      ],
      "text/plain": [
       "    month  day  hour_of_day      year  value\n",
       "0     Jan    1           12  Temp2009   -0.9\n",
       "1     Jan    2           12  Temp2009   -2.2\n",
       "2     Jan    3           12  Temp2009    4.2\n",
       "3     Jan    4           12  Temp2009   -4.7\n",
       "4     Jan    5           12  Temp2009   -7.8\n",
       "..    ...  ...          ...       ...    ...\n",
       "725   Dec   27           12  Temp2010   -6.8\n",
       "726   Dec   28           12  Temp2010  -11.0\n",
       "727   Dec   29           12  Temp2010  -10.6\n",
       "728   Dec   30           12  Temp2010   -3.0\n",
       "729   Dec   31           12  Temp2010   -2.7\n",
       "\n",
       "[730 rows x 5 columns]"
      ]
     },
     "execution_count": 63,
     "metadata": {},
     "output_type": "execute_result"
    }
   ],
   "source": [
    "# Insert code here \n",
    "\n",
    "# Remember to print the table\n",
    "weather_tidy = data_not_tidy.melt(id_vars=[\"month\", \"day\", \"hour_of_day\"], value_vars=[\"Temp2009\", \"Temp2010\"], var_name='year')\n",
    "weather_tidy"
   ]
  },
  {
   "cell_type": "markdown",
   "metadata": {},
   "source": [
    "## Distributions\n",
    "\n",
    "For this part reading Chapter 7 and 9 in [Fundamentals of Data Visualizations](https://clauswilke.com/dataviz/) helps.\n",
    "\n",
    "## Question 3.1\n",
    "\n",
    "The benefit with tidy data is that it is easy to work with. For this task use the tidy weather dataset from above and choose three months and by **a density and histogram plot** visualize the differences in temperature between 2009 and 2010 for the chosen months in a readable manner. Make sure to print the visuals below. "
   ]
  },
  {
   "cell_type": "code",
   "execution_count": 64,
   "metadata": {},
   "outputs": [
    {
     "data": {
      "image/png": "[encoded data removed]",
      "text/plain": [
       "<Figure size 640x480 with 1 Axes>"
      ]
     },
     "metadata": {},
     "output_type": "display_data"
    },
    {
     "data": {
      "text/plain": [
       "<ggplot: (123898122322)>"
      ]
     },
     "execution_count": 64,
     "metadata": {},
     "output_type": "execute_result"
    }
   ],
   "source": [
    "# Insert code here for histogram\n",
    "%matplotlib inline\n",
    "x1 = weather_tidy.loc[weather_tidy[\"year\"] == \"Temp2009\"]\n",
    "x2 = weather_tidy.loc[weather_tidy[\"year\"] == \"Temp2010\"]\n",
    "\n",
    "(\n",
    "ggplot(data = weather_tidy)\n",
    "+ geom_histogram(aes(x='value'), fill=cbPalette[0], alpha=0.6, data=x1, bins=10)\n",
    "+ geom_histogram(aes(x='value'), fill=cbPalette[1], alpha=0.6, data=x2, bins=10)\n",
    ")\n",
    "# Remember to print the visual "
   ]
  },
  {
   "cell_type": "code",
   "execution_count": 69,
   "metadata": {},
   "outputs": [
    {
     "data": {
      "image/png": "[encoded data removed]",
      "text/plain": [
       "<Figure size 640x480 with 1 Axes>"
      ]
     },
     "metadata": {},
     "output_type": "display_data"
    },
    {
     "data": {
      "text/plain": [
       "<ggplot: (123898648435)>"
      ]
     },
     "execution_count": 69,
     "metadata": {},
     "output_type": "execute_result"
    }
   ],
   "source": [
    "# Insert code here for density plot\n",
    "\n",
    "# Remember to print the visual \n",
    "(\n",
    "    ggplot(weather_tidy, aes(x='value', color='year', fill='year'))\n",
    "    + geom_density(alpha=0.6)\n",
    ")"
   ]
  },
  {
   "cell_type": "markdown",
   "metadata": {},
   "source": [
    "Provide a brief motivation for which plot (density and histogram) you find most readable.\n",
    "\n"
   ]
  },
  {
   "cell_type": "markdown",
   "metadata": {},
   "source": [
    "I find the density plot to be more readable than the histogram.\n",
    "\n",
    "~CONTINUE HERE~"
   ]
  },
  {
   "cell_type": "markdown",
   "metadata": {},
   "source": [
    "### Question 3.2\n",
    "\n",
    "In Lecture2 I used boxplots, error-bars, and violin plots to visualize fluctuations in winter temperature in Västerås. Now using the weather data above plot the temperature per month (like in Fig. 9.8 [here](https://clauswilke.com/dataviz/boxplots-violins.html)) using error-bars, boxplots and violin plots with data points. For each month plot the temperature for 2009 and 2010 next to each other (see example on webpage). "
   ]
  },
  {
   "cell_type": "code",
   "execution_count": 8,
   "metadata": {},
   "outputs": [],
   "source": [
    "# Insert code here using standard error\n",
    "\n",
    "# Remember to print the visual "
   ]
  },
  {
   "cell_type": "code",
   "execution_count": 9,
   "metadata": {},
   "outputs": [],
   "source": [
    "# Insert code here using boxplots\n",
    "\n",
    "# Remember to print the visual "
   ]
  },
  {
   "cell_type": "code",
   "execution_count": 10,
   "metadata": {},
   "outputs": [],
   "source": [
    "# Insert code here using violin plot with dots\n",
    "\n",
    "# Remember to print the visual "
   ]
  },
  {
   "cell_type": "markdown",
   "metadata": {},
   "source": [
    "Briefly discuss the drawback with each approach (standard errors, boxplots, and violin plots). "
   ]
  },
  {
   "cell_type": "markdown",
   "metadata": {},
   "source": [
    "__Write answer here__"
   ]
  },
  {
   "cell_type": "markdown",
   "metadata": {},
   "source": [
    "### Question 3.3\n",
    "\n",
    "Some people argue that visuals should be as minimal as possible. On the webpage you have a bad example of a minimalist way to plot the min, median, and max temperature of each month in 2009 and 2010 using the dataset in Question 3.2 (where you hopefully have filtered out daily temperatures for 2009 and 2010). By **only** using geom\\_point recreate the visual (you do not need to recreate the title). **You are not allowed to transform the dataset**.\n",
    "\n",
    "*Hint - Remember the stat argument in ggplot*"
   ]
  },
  {
   "cell_type": "code",
   "execution_count": 11,
   "metadata": {},
   "outputs": [],
   "source": [
    "# Insert code here \n",
    "# Remember to print the visual "
   ]
  },
  {
   "cell_type": "markdown",
   "metadata": {},
   "source": [
    "### Question 3.4\n",
    "\n",
    "Using the full weather dataset on the webpage create two plots of your on choice. For example, you can compare winter temperatures across years, differences in night and day temperatures etc. For each visual provide a brief motivation on why your choice of visual (e.g violin or boxplot) is a good choice."
   ]
  },
  {
   "cell_type": "code",
   "execution_count": 12,
   "metadata": {},
   "outputs": [],
   "source": [
    "# Insert code here \n",
    "# Remember to print the visual "
   ]
  },
  {
   "cell_type": "markdown",
   "metadata": {},
   "source": [
    "*Brief motivation*"
   ]
  },
  {
   "cell_type": "code",
   "execution_count": 13,
   "metadata": {},
   "outputs": [],
   "source": [
    "# Insert code here \n",
    "# Remember to print the visual "
   ]
  },
  {
   "cell_type": "markdown",
   "metadata": {},
   "source": [
    "*Brief motivation*"
   ]
  },
  {
   "cell_type": "markdown",
   "metadata": {},
   "source": [
    "## Amounts \n",
    "\n",
    "For this part reading Chapter 6 in [Fundamentals of Data Visualizations](https://clauswilke.com/dataviz/) can help.\n",
    "\n",
    "### Question 4.1 \n",
    "\n",
    "Barplots are the workhorse for plotting amounts. Create a dataframe with the values from Tab. 6.1 in the [course book](https://clauswilke.com/dataviz/visualizing-amounts.html), and recreate Fig. 6.1 and Fig. 6.3 in the course book."
   ]
  },
  {
   "cell_type": "code",
   "execution_count": 14,
   "metadata": {},
   "outputs": [],
   "source": [
    "# Insert code here for Fig. 6.1\n",
    "# Remember to print the visual "
   ]
  },
  {
   "cell_type": "code",
   "execution_count": 15,
   "metadata": {},
   "outputs": [],
   "source": [
    "# Insert code here for Fig. 6.2\n",
    "# Remember to print the visual "
   ]
  },
  {
   "cell_type": "markdown",
   "metadata": {},
   "source": [
    "### Question 4.2 \n",
    "\n",
    "Often we want to highlight a specific column in a barplot. Using the same layout as in the most recent plot highlight the column of Jumanji in orange, and keep the remaining columns grey."
   ]
  },
  {
   "cell_type": "code",
   "execution_count": 16,
   "metadata": {},
   "outputs": [],
   "source": [
    "# Insert code here \n",
    "# Remember to print the visual "
   ]
  },
  {
   "cell_type": "markdown",
   "metadata": {},
   "source": [
    "### Question 4.3\n",
    "\n",
    "On the webpage I have uploaded a dataset on the number of marriages in Stockholm, Gothenburg, Malmo and rest of Sweden for 2020, 2015, 2010 and 2005. Using this dataset produce i) a visual where it is easy to see which year Stockholm had the second most marriages, and ii) a visual where it is easy to see how many more marriages there was in Stockholm compared to Gothenburg in 2015. **In each visual I want you to include the number of marriages for each city and year**. "
   ]
  },
  {
   "cell_type": "code",
   "execution_count": 17,
   "metadata": {},
   "outputs": [],
   "source": [
    "# Insert code here for part i)\n",
    "# Remember to print the visual "
   ]
  },
  {
   "cell_type": "code",
   "execution_count": 18,
   "metadata": {},
   "outputs": [],
   "source": [
    "# Insert code here for part ii)\n",
    "# Remember to print the visual "
   ]
  },
  {
   "cell_type": "markdown",
   "metadata": {},
   "source": [
    "### Question 4.4\n",
    "\n",
    "When plotting the mobile operating system data in the lectures I used usied a classical barplot. Another way which makes it easy to track the trend over several years or across companies is a common line-plot. Using the dataset on the webpage recreate the present on the webpage."
   ]
  },
  {
   "cell_type": "code",
   "execution_count": 19,
   "metadata": {},
   "outputs": [],
   "source": [
    "# Insert code here \n",
    "# Remember to print the visual "
   ]
  },
  {
   "cell_type": "markdown",
   "metadata": {},
   "source": [
    "### Question 4.5\n",
    "\n",
    "In the lecture I provided data on European nations median lifespan. Now using the full dataset (on the webpage) provided on the webpage select a subset of countries and visualize i) life-expectancy across a timespan of your choice and ii) life expectancy in 2020. Provide a brief motivation for your choice of visual.\n",
    "\n"
   ]
  },
  {
   "cell_type": "code",
   "execution_count": 20,
   "metadata": {},
   "outputs": [],
   "source": [
    "# Insert code here for part1 \n",
    "# Remember to print the visual "
   ]
  },
  {
   "cell_type": "markdown",
   "metadata": {},
   "source": [
    "*Brief motivation*"
   ]
  },
  {
   "cell_type": "code",
   "execution_count": 21,
   "metadata": {},
   "outputs": [],
   "source": [
    "# Insert code here for part2 \n",
    "# Remember to print the visual "
   ]
  },
  {
   "cell_type": "markdown",
   "metadata": {},
   "source": [
    "*Brief motivation*"
   ]
  }
 ],
 "metadata": {
  "kernelspec": {
   "display_name": "Python 3.8.13 ('MVE080')",
   "language": "python",
   "name": "python3"
  },
  "language_info": {
   "codemirror_mode": {
    "name": "ipython",
    "version": 3
   },
   "file_extension": ".py",
   "mimetype": "text/x-python",
   "name": "python",
   "nbconvert_exporter": "python",
   "pygments_lexer": "ipython3",
   "version": "3.8.13"
  },
  "orig_nbformat": 4,
  "vscode": {
   "interpreter": {
    "hash": "3b2a2ef0ce37764ef290dc5a9dadc9308777506acf278ff0c626f391d7ed38c6"
   }
  }
 },
 "nbformat": 4,
 "nbformat_minor": 2
}
