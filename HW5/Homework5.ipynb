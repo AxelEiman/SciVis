{
 "cells": [
  {
   "cell_type": "code",
   "execution_count": 1,
   "id": "efc4ca95",
   "metadata": {},
   "outputs": [
    {
     "name": "stderr",
     "output_type": "stream",
     "text": [
      "C:\\Users\\ackee\\AppData\\Local\\Temp\\tmp0k6tfpoh\\kernel.py:44: DeprecationWarning: There is no current event loop\n",
      "  loop = asyncio.get_event_loop()\n"
     ]
    }
   ],
   "source": [
    "import bpy\n",
    "from math import *\n",
    "from mathutils import *\n",
    "import numpy as np\n",
    "import pandas as pd"
   ]
  },
  {
   "cell_type": "code",
   "execution_count": 2,
   "id": "ec4e4afb",
   "metadata": {},
   "outputs": [],
   "source": [
    "# Variable for currently active object\n",
    "myobj = bpy.context.object\n",
    "# Alternatively, if you know that the object is called 'Cube'\n",
    "# you can reach it by\n",
    "# myobj = bpy.data.objects['Cube']\n",
    "\n",
    "# Clear all previous animation data\n",
    "myobj.animation_data_clear()\n",
    "\n",
    "# set first and last frame index\n",
    "total_time = 2*pi # Animation should be 2*pi seconds long\n",
    "fps = 24 # Frames per second (fps)\n",
    "bpy.context.scene.frame_start = 0\n",
    "bpy.context.scene.frame_end = round(total_time*fps)+1\n",
    "\n",
    "# loop of frames and insert keyframes at every frame\n",
    "nlast = bpy.context.scene.frame_end\n",
    "for n in range(nlast):\n",
    "    t = total_time*n/nlast\n",
    "\n",
    "    # Set frame like this\n",
    "    bpy.context.scene.frame_set(n)\n",
    "\n",
    "    # Set current location like this\n",
    "    myobj.location.x = 5*cos(t)\n",
    "    myobj.location.y = 5*sin(t)\n",
    "    myobj.location.z = sin(5*t)\n",
    "\n",
    "    # Insert new keyframe for \"location\" like this\n",
    "    myobj.keyframe_insert(data_path=\"location\")"
   ]
  },
  {
   "attachments": {},
   "cell_type": "markdown",
   "id": "5b207b07",
   "metadata": {},
   "source": [
    "## Task 3: Rigid body dynamics in Blender by Python scripting "
   ]
  },
  {
   "cell_type": "code",
   "execution_count": 76,
   "id": "c85f9970",
   "metadata": {},
   "outputs": [
    {
     "name": "stdout",
     "output_type": "stream",
     "text": [
      "                                                      w  \\\n",
      "0.00                    [0.10000000149011612, 1.0, 0.0]   \n",
      "0.01  [0.10000000149011612, 1.0, -0.000375000003259629]   \n",
      "0.02  [0.10001499950885773, 0.9999993443489075, -0.0...   \n",
      "0.03  [0.10004500299692154, 0.9999980330467224, -0.0...   \n",
      "0.04  [0.10009000450372696, 0.9999960660934448, -0.0...   \n",
      "\n",
      "                                                      q  \n",
      "0.00                               [1.0, 0.0, 0.0, 0.0]  \n",
      "0.01  [0.9999873638153076, 0.0004999951343052089, 0....  \n",
      "0.02  [0.9999495148658752, 0.0010000427719205618, 0....  \n",
      "0.03  [0.9998863935470581, 0.0015001953579485416, 0....  \n",
      "0.04  [0.9997979998588562, 0.0020005053374916315, 0....  \n",
      "                                                       w  \\\n",
      "59.96  [0.07282499223947525, -1.1246671676635742, -0....   \n",
      "59.97  [0.07245615869760513, -1.1246776580810547, -0....   \n",
      "59.98  [0.07210113853216171, -1.124687671661377, -0.0...   \n",
      "59.99  [0.07175986468791962, -1.124697208404541, -0.0...   \n",
      "60.00  [0.07143227010965347, -1.1247063875198364, -0....   \n",
      "\n",
      "                                                       q  \n",
      "59.96  [0.00953685026615858, -0.9987727999687195, 0.0...  \n",
      "59.97  [0.01011071540415287, -0.9985822439193726, 0.0...  \n",
      "59.98  [0.010682439431548119, -0.9983599781990051, 0....  \n",
      "59.99  [0.011252054944634438, -0.9981059432029724, 0....  \n",
      "60.00  [0.011819613166153431, -0.997820258140564, 0.0...  \n"
     ]
    },
    {
     "name": "stderr",
     "output_type": "stream",
     "text": [
      "C:\\Users\\ackee\\AppData\\Local\\Temp\\tmp0k6tfpoh\\kernel.py:44: DeprecationWarning: There is no current event loop\n",
      "  loop = asyncio.get_event_loop()\n"
     ]
    }
   ],
   "source": [
    "myobj = bpy.context.object\n",
    "myobj.animation_data_clear()\n",
    "\n",
    "t_interval = [0,25]\n",
    "h = 0.01    # step size\n",
    "\n",
    "q0 = Quaternion((1.0, 0, 0, 0))\n",
    "w0 = Vector((10e-2, 1, 0))\n",
    "I = Matrix(((0.5,0,0),(0,2,0),(0,0,4)))\n",
    "\n",
    "# Lie-Euler time-stepping scheme\n",
    "# w = w0\n",
    "# w_next = w - h*I.inverted()(w.cross(I*w))\n",
    "# R_next = R*Quaternion(w_next)\n",
    "\n",
    "\n",
    "time_steps = np.arange(t_interval[0], 2.4*t_interval[1]+h, h)   # TODO Look at switching to range?\n",
    "data = pd.DataFrame(columns=['w', 'q'], index=time_steps)\n",
    "data.w.iloc[0] = w0\n",
    "data.q.iloc[0] = q0\n",
    "\n",
    "# First simulate the data\n",
    "for i, t in enumerate(time_steps[:-1]):\n",
    "    w = data.w.iloc[i]\n",
    "    q = data.q.iloc[i]\n",
    "    \n",
    "    data.w.iloc[i+1] = w - h*I.inverted()@(w.cross(I@w))\n",
    "    # w_next = w - h*I.inverted()*(w.cross(I*w))\n",
    "    data.q.iloc[i+1] = q@Quaternion(h*data.w.iloc[i+1])\n",
    "    # q_next = q*Quaternion(w_next)\n",
    "\n",
    "# print(data.head())\n",
    "# print(data.tail())"
   ]
  },
  {
   "cell_type": "code",
   "execution_count": 77,
   "id": "4adca00b",
   "metadata": {},
   "outputs": [
    {
     "name": "stdout",
     "output_type": "stream",
     "text": [
      "6001\n"
     ]
    }
   ],
   "source": [
    "# Animation \n",
    "steps_per_frame = 10\n",
    "total_time = 25\n",
    "bpy.context.scene.frame_start = 0\n",
    "bpy.context.scene.frame_end = round(total_time*fps)+1\n",
    "nlast = bpy.context.scene.frame_end\n",
    "print(len(data))\n",
    "\n",
    "myobj.rotation_mode = 'QUATERNION'\n",
    "for n in range(nlast): #range(0,len(data), steps_per_frame): \n",
    "    bpy.context.scene.frame_set(n)\n",
    "\n",
    "    myobj.rotation_quaternion = data.q.iloc[n*10]\n",
    "    myobj.keyframe_insert(data_path='rotation_quaternion')"
   ]
  },
  {
   "cell_type": "code",
   "execution_count": 17,
   "id": "fad71c26",
   "metadata": {},
   "outputs": [
    {
     "name": "stdout",
     "output_type": "stream",
     "text": [
      "<Matrix 3x3 (1.0000, 0.0000, 0.0000)\n",
      "            (0.0000, 1.0000, 0.0000)\n",
      "            (0.0000, 0.0000, 1.0000)>\n"
     ]
    }
   ],
   "source": [
    "def rotation_from_quat(q: Quaternion):\n",
    "    a = q[0]\n",
    "    b1 = q[1]\n",
    "    b2 = q[2]\n",
    "    b3 = q[3]\n",
    "\n",
    "    return 2*Matrix((\n",
    "        ((a**2+b1**2-b2**2-b3**2)/2, b1*b2-a*b3, b1*b3+a*b2),\n",
    "        (b1*b2+a*b3, (a**2-b1**2+b2**2-b3**2)/2, b2*b3-a*b1),\n",
    "        (b1*b3-a*b2, b2*b3+a*b1, (a**2-b1**2-b2**2+b3**2)/2)\n",
    "    ))\n",
    "\n",
    "print(rotation_from_quat(q0))"
   ]
  }
 ],
 "metadata": {
  "kernelspec": {
   "display_name": "blender",
   "language": "python",
   "name": "blender"
  },
  "language_info": {
   "codemirror_mode": {
    "name": "ipython",
    "version": 3
   },
   "file_extension": ".py",
   "mimetype": "text/x-python",
   "name": "python",
   "nbconvert_exporter": "python",
   "pygments_lexer": "ipython3",
   "version": "3.10.2"
  },
  "vscode": {
   "interpreter": {
    "hash": "c5d592ee5d50447e6e1443f9e9693ebd7b85ac5b0ed6afdf37df7997b3baac7d"
   }
  }
 },
 "nbformat": 4,
 "nbformat_minor": 5
}
