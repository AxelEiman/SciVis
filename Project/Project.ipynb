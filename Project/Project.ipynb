{
 "cells": [
  {
   "attachments": {},
   "cell_type": "markdown",
   "id": "978e9fc7",
   "metadata": {},
   "source": [
    "# Given simulation code:"
   ]
  },
  {
   "cell_type": "code",
   "execution_count": 2,
   "id": "f76a518b",
   "metadata": {},
   "outputs": [],
   "source": [
    "import numpy as np\n",
    "import bpy\n",
    "import math\n",
    "import mathutils"
   ]
  },
  {
   "cell_type": "code",
   "execution_count": 3,
   "id": "ed67278f",
   "metadata": {},
   "outputs": [
    {
     "name": "stderr",
     "output_type": "stream",
     "text": [
      "C:\\Users\\Admin\\AppData\\Local\\Temp\\tmpvc3ozlef\\kernel.py:44: DeprecationWarning: There is no current event loop\n",
      "  loop = asyncio.get_event_loop()\n"
     ]
    }
   ],
   "source": [
    "\n",
    "# Gravitational constant when the mass of the sun is 1.\n",
    "G = 2.95912208286e-4\n",
    "\n",
    "# Planet names and order\n",
    "planets = ('Sun','Jupiter','Saturn','Uranus','Neptune','Pluto')\n",
    "\n",
    "# The data below is obtained from here: https://ssd.jpl.nasa.gov/horizons.cgi\n",
    "\n",
    "# Masses relative to the sun (the increased sun mass is to account for the inner planets)\n",
    "masses = np.array([1.00000597682, \n",
    "                   0.000954786104043, \n",
    "                   0.000285583733151, \n",
    "                   0.0000437273164546, \n",
    "                   0.0000517759138449, \n",
    "                   6.571141277023631e-09])\n",
    "\n",
    "# Positions of the planets in astronomical units (au) on September 5, 1994, at 0h00 GST.\n",
    "positions = np.array([[0., 0., 0.],\n",
    "                    [-3.502576677887171E+00, -4.111754751605156E+00,  9.546986420486078E-02],\n",
    "                    [9.075323064717326E+00, -3.443060859273154E+00, -3.008002285860299E-01],\n",
    "                    [8.309900066449559E+00, -1.782348877489204E+01, -1.738826162402036E-01],\n",
    "                    [1.147049510166812E+01, -2.790203169301273E+01,  3.102324955757055E-01],\n",
    "                    [-1.553841709421204E+01, -2.440295115792555E+01,  7.105854443660053E+00]])\n",
    "\n",
    "# Velocities of the planets relative to the sun in au/day on September 5, 1994, at 0h00 GST.\n",
    "velocities = np.array([[0., 0., 0.],\n",
    "                    [5.647185685991568E-03, -4.540768024044625E-03, -1.077097723549840E-04],\n",
    "                    [1.677252496875353E-03,  5.205044578906008E-03, -1.577215019146763E-04],\n",
    "                    [3.535508197097127E-03,  1.479452678720917E-03, -4.019422185567764E-05],\n",
    "                    [2.882592399188369E-03,  1.211095412047072E-03, -9.118527716949448E-05],\n",
    "                    [2.754640676017983E-03, -2.105690992946069E-03, -5.607958889969929E-04]])\n",
    "\n",
    "# Compute total linear momentum\n",
    "ptot = (masses[:,np.newaxis]*velocities).sum(axis=0)\n",
    "\n",
    "# Recompute velocities relative to the center of mass\n",
    "velocities -= ptot/masses.sum()\n",
    "\n",
    "# Linear momenta of the planets: p = m*v\n",
    "momenta = masses[:,np.newaxis]*velocities\n",
    "\n",
    "# Function for Newtonian acceleration field\n",
    "def acc(x, masses = masses, G = G):\n",
    "    N = masses.shape[0]\n",
    "    d = x.shape[-1]\n",
    "    dx_pairs = x[:, np.newaxis] - x[np.newaxis, :]\n",
    "    msq_pairs = masses[:, np.newaxis]*masses[np.newaxis, :]\n",
    "    \n",
    "    # Remove self-self interactions\n",
    "    dx_pairs = np.delete(dx_pairs.reshape((N*N,d)),slice(None,None,N+1), axis = 0).reshape((N,N-1,d))\n",
    "    msq_pairs = np.delete(msq_pairs.reshape((N*N)),slice(None,None,N+1), axis = 0).reshape((N,N-1))\n",
    "    \n",
    "    # Compute pairwise distances\n",
    "    dist_pairs = np.sqrt((dx_pairs**2).sum(axis=-1))\n",
    "    \n",
    "    # Compute the gravitational force using Newton's law\n",
    "    forces = -G*(dx_pairs*msq_pairs[:,:,np.newaxis]/dist_pairs[:,:,np.newaxis]**3).sum(axis=1)\n",
    "    \n",
    "    # Return accelerations\n",
    "    return forces/masses[:,np.newaxis]\n",
    "\n",
    "# Select time step and total integration time (measured in days)\n",
    "h = 100 # Time stepsize in days\n",
    "totaltime = 100*365 # Total simulation time in days\n",
    "\n",
    "# Preallocate output vectors at each step\n",
    "t_out = np.arange(0.,totaltime,h)\n",
    "x_out = np.zeros(t_out.shape + positions.shape, dtype=float)\n",
    "x_out[0,:,:] = positions\n",
    "v_out = np.zeros_like(x_out)\n",
    "v_out[0,:,:] = velocities\n",
    "\n",
    "# Adding the planet meshes\n",
    "for i, name in enumerate(planets):\n",
    "    bpy.ops.mesh.primitive_uv_sphere_add(location=positions[i])\n",
    "    bpy.context.object.name = name\n",
    "    bpy.context.object.data.name = name\n",
    "    bpy.context.object.keyframe_insert(data_path='location')\n",
    "\n",
    "# Set up the animation time etc.\n",
    "total_time = 15 # Guess from examples, could change\n",
    "fps = 24\n",
    "bpy.context.scene.frame_start = 0\n",
    "bpy.context.scene.frame_end = round(total_time*fps)+1\n",
    "nlast = bpy.context.scene.frame_end\n"
   ]
  },
  {
   "cell_type": "code",
   "execution_count": 4,
   "id": "764e01ed",
   "metadata": {},
   "outputs": [
    {
     "name": "stdout",
     "output_type": "stream",
     "text": [
      "[-3.50257668 -4.11175475  0.09546986]\n"
     ]
    }
   ],
   "source": [
    "\n",
    "# Use Symplectic Euler method for integration\n",
    "for i, (x0, x1, v0, v1) in enumerate(zip(x_out[:-1],x_out[1:],v_out[:-1],v_out[1:]), 1):\n",
    "    x1[:,:] = x0 + h*v0\n",
    "    v1[:,:] = v0 + h*acc(x1)\n",
    "\n",
    "    x_out[i,:,:] = x1\n",
    "    v_out[i,:,:] = v1\n",
    "    \n",
    "    bpy.context.scene.frame_set(i)\n",
    "    for j, name in enumerate(planets):\n",
    "        c_obj = bpy.data.objects[name]\n",
    "        c_obj.location = x_out[i,j]\n",
    "        c_obj.keyframe_insert(data_path='location')\n",
    "# -------------------------\n",
    "# Add the Blender code here\n",
    "print(x_out[0, 1])"
   ]
  },
  {
   "cell_type": "code",
   "execution_count": 5,
   "id": "5322ebab",
   "metadata": {},
   "outputs": [
    {
     "name": "stdout",
     "output_type": "stream",
     "text": [
      "[[[-6.16644121e-04  2.71795481e-04  1.54158103e-05]\n",
      "  [-2.93847475e+00 -4.56555976e+00  8.47143028e-02]\n",
      "  [ 9.24243167e+00 -2.92228461e+00 -3.16556963e-01]\n",
      "  [ 8.66283424e+00 -1.76752717e+01 -1.77886623e-01]\n",
      "  [ 1.17581377e+01 -2.77806504e+01  3.01129384e-01]\n",
      "  [-1.52635697e+01 -2.46132485e+01  7.04979027e+00]]\n",
      "\n",
      " [[-1.27635918e-03  4.59856830e-04  3.20317633e-05]\n",
      "  [-2.32006757e+00 -4.93497594e+00  7.23930962e-02]\n",
      "  [ 9.37954631e+00 -2.39203375e+00 -3.31286423e-01]\n",
      "  [ 9.01240217e+00 -1.75201886e+01 -1.81821454e-01]\n",
      "  [ 1.20445106e+01 -2.76562694e+01  2.91993705e-01]\n",
      "  [-1.49870136e+01 -2.48207912e+01  6.99293679e+00]]\n",
      "\n",
      " [[-1.96752599e-03  5.59268358e-04  4.95987586e-05]\n",
      "  [-1.65934806e+00 -5.21434477e+00  5.87514647e-02]\n",
      "  [ 9.48610176e+00 -1.85399894e+00 -3.44936576e-01]\n",
      "  [ 9.35847744e+00 -1.73583186e+01 -1.85685771e-01]\n",
      "  [ 1.23295825e+01 -2.75289019e+01  2.82826443e-01]\n",
      "  [-1.47087828e+01 -2.50255613e+01  6.93530180e+00]]\n",
      "\n",
      " ...\n",
      "\n",
      " [[-2.79843536e-03 -8.36194540e-03  9.93606609e-05]\n",
      "  [ 4.90789478e+00 -1.86683096e+00 -1.01873047e-01]\n",
      "  [-4.22212729e+00  8.20701335e+00  2.59312641e-02]\n",
      "  [ 2.01506395e+01 -1.66791066e+00 -2.65981004e-01]\n",
      "  [-2.62371717e+01  1.42945791e+01  3.08599952e-01]\n",
      "  [ 4.09916260e+01  2.02612091e+01 -1.39624367e+01]]\n",
      "\n",
      " [[-2.81613223e-03 -8.98158649e-03  9.84232451e-05]\n",
      "  [ 5.08392076e+00 -1.13723868e+00 -1.08872871e-01]\n",
      "  [-4.72525341e+00  7.93082253e+00  5.07952563e-02]\n",
      "  [ 2.01770084e+01 -1.29687273e+00 -2.64937841e-01]\n",
      "  [-2.63885560e+01  1.40181957e+01  3.17762214e-01]\n",
      "  [ 4.09118859e+01  2.04650708e+01 -1.39616635e+01]]\n",
      "\n",
      " [[-2.73719057e-03 -9.61517800e-03  9.53626745e-05]\n",
      "  [ 5.15359884e+00 -3.84055450e-01 -1.13594456e-01]\n",
      "  [-5.21064374e+00  7.62482127e+00  7.54687851e-02]\n",
      "  [ 2.01961432e+01 -9.25373407e-01 -2.63799702e-01]\n",
      "  [-2.65370110e+01  1.37402554e+01  3.26889206e-01]\n",
      "  [ 4.08310381e+01  2.06683781e+01 -1.39605122e+01]]]\n"
     ]
    }
   ],
   "source": [
    "print(x_out[1:])"
   ]
  },
  {
   "attachments": {},
   "cell_type": "markdown",
   "id": "0a10d510",
   "metadata": {},
   "source": [
    "# My code"
   ]
  },
  {
   "attachments": {},
   "cell_type": "markdown",
   "id": "d9edde48",
   "metadata": {},
   "source": [
    "## Deleting cube"
   ]
  },
  {
   "cell_type": "code",
   "execution_count": 6,
   "id": "7d328ab6",
   "metadata": {},
   "outputs": [],
   "source": [
    "myobj = bpy.data.objects['Cube']\n",
    "\n",
    "# Delete object \n",
    "bpy.data.objects.remove(myobj, do_unlink=True)"
   ]
  }
 ],
 "metadata": {
  "kernelspec": {
   "display_name": "blender",
   "language": "python",
   "name": "blender"
  },
  "language_info": {
   "codemirror_mode": {
    "name": "ipython",
    "version": 3
   },
   "file_extension": ".py",
   "mimetype": "text/x-python",
   "name": "python",
   "nbconvert_exporter": "python",
   "pygments_lexer": "ipython3",
   "version": "3.10.2"
  }
 },
 "nbformat": 4,
 "nbformat_minor": 5
}
