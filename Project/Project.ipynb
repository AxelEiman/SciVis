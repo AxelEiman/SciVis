{
 "cells": [
  {
   "attachments": {},
   "cell_type": "markdown",
   "id": "978e9fc7",
   "metadata": {},
   "source": [
    "# Given simulation code:"
   ]
  },
  {
   "cell_type": "code",
   "execution_count": 1,
   "id": "f76a518b",
   "metadata": {},
   "outputs": [],
   "source": [
    "import numpy as np\n",
    "import bpy\n",
    "import math\n",
    "import mathutils"
   ]
  },
  {
   "cell_type": "code",
   "execution_count": 2,
   "id": "ed67278f",
   "metadata": {},
   "outputs": [
    {
     "name": "stderr",
     "output_type": "stream",
     "text": [
      "C:\\Users\\Admin\\AppData\\Local\\Temp\\tmpwicldeml\\kernel.py:44: DeprecationWarning: There is no current event loop\n",
      "  loop = asyncio.get_event_loop()\n"
     ]
    },
    {
     "name": "stdout",
     "output_type": "stream",
     "text": [
      "[-3.50257668 -4.11175475  0.09546986]\n"
     ]
    }
   ],
   "source": [
    "\n",
    "# Gravitational constant when the mass of the sun is 1.\n",
    "G = 2.95912208286e-4\n",
    "\n",
    "# Planet names and order\n",
    "planets = ('Sun','Jupiter','Saturn','Uranus','Neptune','Pluto')\n",
    "\n",
    "# The data below is obtained from here: https://ssd.jpl.nasa.gov/horizons.cgi\n",
    "\n",
    "# Masses relative to the sun (the increased sun mass is to account for the inner planets)\n",
    "masses = np.array([1.00000597682, \n",
    "                   0.000954786104043, \n",
    "                   0.000285583733151, \n",
    "                   0.0000437273164546, \n",
    "                   0.0000517759138449, \n",
    "                   6.571141277023631e-09])\n",
    "\n",
    "# Positions of the planets in astronomical units (au) on September 5, 1994, at 0h00 GST.\n",
    "positions = np.array([[0., 0., 0.],\n",
    "                    [-3.502576677887171E+00, -4.111754751605156E+00,  9.546986420486078E-02],\n",
    "                    [9.075323064717326E+00, -3.443060859273154E+00, -3.008002285860299E-01],\n",
    "                    [8.309900066449559E+00, -1.782348877489204E+01, -1.738826162402036E-01],\n",
    "                    [1.147049510166812E+01, -2.790203169301273E+01,  3.102324955757055E-01],\n",
    "                    [-1.553841709421204E+01, -2.440295115792555E+01,  7.105854443660053E+00]])\n",
    "\n",
    "# Velocities of the planets relative to the sun in au/day on September 5, 1994, at 0h00 GST.\n",
    "velocities = np.array([[0., 0., 0.],\n",
    "                    [5.647185685991568E-03, -4.540768024044625E-03, -1.077097723549840E-04],\n",
    "                    [1.677252496875353E-03,  5.205044578906008E-03, -1.577215019146763E-04],\n",
    "                    [3.535508197097127E-03,  1.479452678720917E-03, -4.019422185567764E-05],\n",
    "                    [2.882592399188369E-03,  1.211095412047072E-03, -9.118527716949448E-05],\n",
    "                    [2.754640676017983E-03, -2.105690992946069E-03, -5.607958889969929E-04]])\n",
    "\n",
    "# Compute total linear momentum\n",
    "ptot = (masses[:,np.newaxis]*velocities).sum(axis=0)\n",
    "\n",
    "# Recompute velocities relative to the center of mass\n",
    "velocities -= ptot/masses.sum()\n",
    "\n",
    "# Linear momenta of the planets: p = m*v\n",
    "momenta = masses[:,np.newaxis]*velocities\n",
    "\n",
    "# Function for Newtonian acceleration field\n",
    "def acc(x, masses = masses, G = G):\n",
    "    N = masses.shape[0]\n",
    "    d = x.shape[-1]\n",
    "    dx_pairs = x[:, np.newaxis] - x[np.newaxis, :]\n",
    "    msq_pairs = masses[:, np.newaxis]*masses[np.newaxis, :]\n",
    "    \n",
    "    # Remove self-self interactions\n",
    "    dx_pairs = np.delete(dx_pairs.reshape((N*N,d)),slice(None,None,N+1), axis = 0).reshape((N,N-1,d))\n",
    "    msq_pairs = np.delete(msq_pairs.reshape((N*N)),slice(None,None,N+1), axis = 0).reshape((N,N-1))\n",
    "    \n",
    "    # Compute pairwise distances\n",
    "    dist_pairs = np.sqrt((dx_pairs**2).sum(axis=-1))\n",
    "    \n",
    "    # Compute the gravitational force using Newton's law\n",
    "    forces = -G*(dx_pairs*msq_pairs[:,:,np.newaxis]/dist_pairs[:,:,np.newaxis]**3).sum(axis=1)\n",
    "    \n",
    "    # Return accelerations\n",
    "    return forces/masses[:,np.newaxis]\n",
    "\n",
    "# Select time step and total integration time (measured in days)\n",
    "h = 100 # Time stepsize in days\n",
    "totaltime = 100*365 # Total simulation time in days\n",
    "\n",
    "# Preallocate output vectors at each step\n",
    "t_out = np.arange(0.,totaltime,h)\n",
    "x_out = np.zeros(t_out.shape + positions.shape, dtype=float)\n",
    "x_out[0,:,:] = positions\n",
    "v_out = np.zeros_like(x_out)\n",
    "v_out[0,:,:] = velocities\n",
    "\n",
    "# Adding the planet meshes\n",
    "for i, name in enumerate(planets):\n",
    "    bpy.ops.mesh.primitive_uv_sphere_add(location=positions[i])\n",
    "    bpy.context.object.name = name\n",
    "    bpy.context.object.data.name = name\n",
    "    bpy.context.object.keyframe_insert(data_path='location')\n",
    "\n",
    "# Set up the animation time etc.\n",
    "total_time = 15 # Guess from examples, could change\n",
    "fps = 24\n",
    "bpy.context.scene.frame_start = 0\n",
    "bpy.context.scene.frame_end = round(total_time*fps)+1\n",
    "nlast = bpy.context.scene.frame_end\n",
    "\n",
    "# Use Symplectic Euler method for integration\n",
    "for i, (x0, x1, v0, v1) in enumerate(zip(x_out[:-1],x_out[1:],v_out[:-1],v_out[1:]), 1):\n",
    "    x1[:,:] = x0 + h*v0\n",
    "    v1[:,:] = v0 + h*acc(x1)\n",
    "\n",
    "    x_out[i,:,:] = x1\n",
    "    v_out[i,:,:] = v1\n",
    "    \n",
    "    bpy.context.scene.frame_set(i)\n",
    "    for j, name in enumerate(planets):\n",
    "        c_obj = bpy.data.objects[name]\n",
    "        c_obj.location = x_out[0,j]\n",
    "# -------------------------\n",
    "# Add the Blender code here\n",
    "print(x_out[0, 1])"
   ]
  },
  {
   "attachments": {},
   "cell_type": "markdown",
   "id": "0a10d510",
   "metadata": {},
   "source": [
    "# My code"
   ]
  },
  {
   "attachments": {},
   "cell_type": "markdown",
   "id": "d9edde48",
   "metadata": {},
   "source": [
    "## Deleting cube"
   ]
  },
  {
   "cell_type": "code",
   "execution_count": 3,
   "id": "7d328ab6",
   "metadata": {},
   "outputs": [],
   "source": [
    "myobj = bpy.data.objects['Cube']\n",
    "\n",
    "# Delete object \n",
    "bpy.data.objects.remove(myobj, do_unlink=True)"
   ]
  },
  {
   "attachments": {},
   "cell_type": "markdown",
   "id": "8561afdc",
   "metadata": {},
   "source": [
    "## Adding planets"
   ]
  },
  {
   "cell_type": "code",
   "execution_count": 4,
   "id": "b1811b27",
   "metadata": {},
   "outputs": [],
   "source": [
    "\n",
    "# for i, name in enumerate(planets):\n",
    "#     bpy.ops.mesh.primitive_uv_sphere_add(location=positions[i])\n",
    "#     bpy.context.object.name = name\n",
    "#     bpy.context.object.data.name = name"
   ]
  },
  {
   "attachments": {},
   "cell_type": "markdown",
   "id": "4d4716b2",
   "metadata": {},
   "source": [
    "## Adding movement of planets in keyframes"
   ]
  },
  {
   "cell_type": "code",
   "execution_count": 5,
   "id": "f5308f2e",
   "metadata": {},
   "outputs": [
    {
     "name": "stdout",
     "output_type": "stream",
     "text": [
      "[[  0.           0.           0.        ]\n",
      " [ -3.50257668  -4.11175475   0.09546986]\n",
      " [  9.07532306  -3.44306086  -0.30080023]\n",
      " [  8.30990007 -17.82348877  -0.17388262]\n",
      " [ 11.4704951  -27.90203169   0.3102325 ]\n",
      " [-15.53841709 -24.40295116   7.10585444]]\n"
     ]
    }
   ],
   "source": [
    "print(positions)"
   ]
  }
 ],
 "metadata": {
  "kernelspec": {
   "display_name": "blender",
   "language": "python",
   "name": "blender"
  },
  "language_info": {
   "codemirror_mode": {
    "name": "ipython",
    "version": 3
   },
   "file_extension": ".py",
   "mimetype": "text/x-python",
   "name": "python",
   "nbconvert_exporter": "python",
   "pygments_lexer": "ipython3",
   "version": "3.10.2"
  }
 },
 "nbformat": 4,
 "nbformat_minor": 5
}
